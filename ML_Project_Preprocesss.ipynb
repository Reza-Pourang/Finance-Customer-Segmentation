{
  "nbformat": 4,
  "nbformat_minor": 0,
  "metadata": {
    "colab": {
      "provenance": []
    },
    "kernelspec": {
      "name": "python3",
      "display_name": "Python 3"
    },
    "language_info": {
      "name": "python"
    }
  },
  "cells": [
    {
      "cell_type": "code",
      "execution_count": null,
      "metadata": {
        "id": "k9KuNNyZ5LU9",
        "colab": {
          "base_uri": "https://localhost:8080/"
        },
        "outputId": "ca1b1b4b-1cd7-456d-c965-85b4ae89c7d8"
      },
      "outputs": [
        {
          "output_type": "stream",
          "name": "stdout",
          "text": [
            "Mounted at /content/drive\n"
          ]
        }
      ],
      "source": [
        "#Import necessary libraries\n",
        "\n",
        "import numpy as np\n",
        "import pandas as pd\n",
        "\n",
        "#Loading dataset\n",
        "from google.colab import drive\n",
        "drive.mount('/content/drive')\n",
        "Data = pd.read_csv('/content/drive/MyDrive/Colab Notebooks/bank-full.csv', sep=';')"
      ]
    },
    {
      "cell_type": "code",
      "source": [
        "#Initial check\n",
        "\n",
        "print(Data.head(20))\n",
        "print('\\n')\n",
        "print(Data.dtypes)\n",
        "print('\\n')\n",
        "print(Data.info())\n",
        "print('\\n')\n",
        "print(Data.duplicated().sum())"
      ],
      "metadata": {
        "id": "YfwMJM1g5UbC",
        "colab": {
          "base_uri": "https://localhost:8080/"
        },
        "outputId": "11db0d6f-6851-48d4-f5f0-d5278d43786e"
      },
      "execution_count": null,
      "outputs": [
        {
          "output_type": "stream",
          "name": "stdout",
          "text": [
            "    age           job   marital  education default  balance housing loan  \\\n",
            "0    58    management   married   tertiary      no     2143     yes   no   \n",
            "1    44    technician    single  secondary      no       29     yes   no   \n",
            "2    33  entrepreneur   married  secondary      no        2     yes  yes   \n",
            "3    47   blue-collar   married    unknown      no     1506     yes   no   \n",
            "4    33       unknown    single    unknown      no        1      no   no   \n",
            "5    35    management   married   tertiary      no      231     yes   no   \n",
            "6    28    management    single   tertiary      no      447     yes  yes   \n",
            "7    42  entrepreneur  divorced   tertiary     yes        2     yes   no   \n",
            "8    58       retired   married    primary      no      121     yes   no   \n",
            "9    43    technician    single  secondary      no      593     yes   no   \n",
            "10   41        admin.  divorced  secondary      no      270     yes   no   \n",
            "11   29        admin.    single  secondary      no      390     yes   no   \n",
            "12   53    technician   married  secondary      no        6     yes   no   \n",
            "13   58    technician   married    unknown      no       71     yes   no   \n",
            "14   57      services   married  secondary      no      162     yes   no   \n",
            "15   51       retired   married    primary      no      229     yes   no   \n",
            "16   45        admin.    single    unknown      no       13     yes   no   \n",
            "17   57   blue-collar   married    primary      no       52     yes   no   \n",
            "18   60       retired   married    primary      no       60     yes   no   \n",
            "19   33      services   married  secondary      no        0     yes   no   \n",
            "\n",
            "    contact  day month  duration  campaign  pdays  previous poutcome   y  \n",
            "0   unknown    5   may       261         1     -1         0  unknown  no  \n",
            "1   unknown    5   may       151         1     -1         0  unknown  no  \n",
            "2   unknown    5   may        76         1     -1         0  unknown  no  \n",
            "3   unknown    5   may        92         1     -1         0  unknown  no  \n",
            "4   unknown    5   may       198         1     -1         0  unknown  no  \n",
            "5   unknown    5   may       139         1     -1         0  unknown  no  \n",
            "6   unknown    5   may       217         1     -1         0  unknown  no  \n",
            "7   unknown    5   may       380         1     -1         0  unknown  no  \n",
            "8   unknown    5   may        50         1     -1         0  unknown  no  \n",
            "9   unknown    5   may        55         1     -1         0  unknown  no  \n",
            "10  unknown    5   may       222         1     -1         0  unknown  no  \n",
            "11  unknown    5   may       137         1     -1         0  unknown  no  \n",
            "12  unknown    5   may       517         1     -1         0  unknown  no  \n",
            "13  unknown    5   may        71         1     -1         0  unknown  no  \n",
            "14  unknown    5   may       174         1     -1         0  unknown  no  \n",
            "15  unknown    5   may       353         1     -1         0  unknown  no  \n",
            "16  unknown    5   may        98         1     -1         0  unknown  no  \n",
            "17  unknown    5   may        38         1     -1         0  unknown  no  \n",
            "18  unknown    5   may       219         1     -1         0  unknown  no  \n",
            "19  unknown    5   may        54         1     -1         0  unknown  no  \n",
            "\n",
            "\n",
            "age           int64\n",
            "job          object\n",
            "marital      object\n",
            "education    object\n",
            "default      object\n",
            "balance       int64\n",
            "housing      object\n",
            "loan         object\n",
            "contact      object\n",
            "day           int64\n",
            "month        object\n",
            "duration      int64\n",
            "campaign      int64\n",
            "pdays         int64\n",
            "previous      int64\n",
            "poutcome     object\n",
            "y            object\n",
            "dtype: object\n",
            "\n",
            "\n",
            "<class 'pandas.core.frame.DataFrame'>\n",
            "RangeIndex: 45211 entries, 0 to 45210\n",
            "Data columns (total 17 columns):\n",
            " #   Column     Non-Null Count  Dtype \n",
            "---  ------     --------------  ----- \n",
            " 0   age        45211 non-null  int64 \n",
            " 1   job        45211 non-null  object\n",
            " 2   marital    45211 non-null  object\n",
            " 3   education  45211 non-null  object\n",
            " 4   default    45211 non-null  object\n",
            " 5   balance    45211 non-null  int64 \n",
            " 6   housing    45211 non-null  object\n",
            " 7   loan       45211 non-null  object\n",
            " 8   contact    45211 non-null  object\n",
            " 9   day        45211 non-null  int64 \n",
            " 10  month      45211 non-null  object\n",
            " 11  duration   45211 non-null  int64 \n",
            " 12  campaign   45211 non-null  int64 \n",
            " 13  pdays      45211 non-null  int64 \n",
            " 14  previous   45211 non-null  int64 \n",
            " 15  poutcome   45211 non-null  object\n",
            " 16  y          45211 non-null  object\n",
            "dtypes: int64(7), object(10)\n",
            "memory usage: 5.9+ MB\n",
            "None\n",
            "\n",
            "\n",
            "0\n"
          ]
        }
      ]
    },
    {
      "cell_type": "code",
      "source": [
        "#Preprocess - choose relevant columns\n",
        "\n",
        "RelevantColumns = ['age', 'job', 'marital', 'education', 'default', 'balance', 'housing',\n",
        "            'loan', 'campaign', 'pdays', 'previous', 'poutcome', 'y']\n",
        "FilteredData = Data[RelevantColumns]\n",
        "\n",
        "print(FilteredData.head(20))\n",
        "print('\\n')\n",
        "print(FilteredData.dtypes)\n",
        "print('\\n')\n",
        "print(FilteredData.info())\n",
        "print('\\n')\n",
        "print(FilteredData.isnull().sum())"
      ],
      "metadata": {
        "id": "6U8FwmjE5V2i",
        "colab": {
          "base_uri": "https://localhost:8080/"
        },
        "outputId": "ad5d5776-fe39-402e-ce24-c61dc7884e24"
      },
      "execution_count": null,
      "outputs": [
        {
          "output_type": "stream",
          "name": "stdout",
          "text": [
            "    age           job   marital  education default  balance housing loan  \\\n",
            "0    58    management   married   tertiary      no     2143     yes   no   \n",
            "1    44    technician    single  secondary      no       29     yes   no   \n",
            "2    33  entrepreneur   married  secondary      no        2     yes  yes   \n",
            "3    47   blue-collar   married    unknown      no     1506     yes   no   \n",
            "4    33       unknown    single    unknown      no        1      no   no   \n",
            "5    35    management   married   tertiary      no      231     yes   no   \n",
            "6    28    management    single   tertiary      no      447     yes  yes   \n",
            "7    42  entrepreneur  divorced   tertiary     yes        2     yes   no   \n",
            "8    58       retired   married    primary      no      121     yes   no   \n",
            "9    43    technician    single  secondary      no      593     yes   no   \n",
            "10   41        admin.  divorced  secondary      no      270     yes   no   \n",
            "11   29        admin.    single  secondary      no      390     yes   no   \n",
            "12   53    technician   married  secondary      no        6     yes   no   \n",
            "13   58    technician   married    unknown      no       71     yes   no   \n",
            "14   57      services   married  secondary      no      162     yes   no   \n",
            "15   51       retired   married    primary      no      229     yes   no   \n",
            "16   45        admin.    single    unknown      no       13     yes   no   \n",
            "17   57   blue-collar   married    primary      no       52     yes   no   \n",
            "18   60       retired   married    primary      no       60     yes   no   \n",
            "19   33      services   married  secondary      no        0     yes   no   \n",
            "\n",
            "    campaign  pdays  previous poutcome   y  \n",
            "0          1     -1         0  unknown  no  \n",
            "1          1     -1         0  unknown  no  \n",
            "2          1     -1         0  unknown  no  \n",
            "3          1     -1         0  unknown  no  \n",
            "4          1     -1         0  unknown  no  \n",
            "5          1     -1         0  unknown  no  \n",
            "6          1     -1         0  unknown  no  \n",
            "7          1     -1         0  unknown  no  \n",
            "8          1     -1         0  unknown  no  \n",
            "9          1     -1         0  unknown  no  \n",
            "10         1     -1         0  unknown  no  \n",
            "11         1     -1         0  unknown  no  \n",
            "12         1     -1         0  unknown  no  \n",
            "13         1     -1         0  unknown  no  \n",
            "14         1     -1         0  unknown  no  \n",
            "15         1     -1         0  unknown  no  \n",
            "16         1     -1         0  unknown  no  \n",
            "17         1     -1         0  unknown  no  \n",
            "18         1     -1         0  unknown  no  \n",
            "19         1     -1         0  unknown  no  \n",
            "\n",
            "\n",
            "age           int64\n",
            "job          object\n",
            "marital      object\n",
            "education    object\n",
            "default      object\n",
            "balance       int64\n",
            "housing      object\n",
            "loan         object\n",
            "campaign      int64\n",
            "pdays         int64\n",
            "previous      int64\n",
            "poutcome     object\n",
            "y            object\n",
            "dtype: object\n",
            "\n",
            "\n",
            "<class 'pandas.core.frame.DataFrame'>\n",
            "RangeIndex: 45211 entries, 0 to 45210\n",
            "Data columns (total 13 columns):\n",
            " #   Column     Non-Null Count  Dtype \n",
            "---  ------     --------------  ----- \n",
            " 0   age        45211 non-null  int64 \n",
            " 1   job        45211 non-null  object\n",
            " 2   marital    45211 non-null  object\n",
            " 3   education  45211 non-null  object\n",
            " 4   default    45211 non-null  object\n",
            " 5   balance    45211 non-null  int64 \n",
            " 6   housing    45211 non-null  object\n",
            " 7   loan       45211 non-null  object\n",
            " 8   campaign   45211 non-null  int64 \n",
            " 9   pdays      45211 non-null  int64 \n",
            " 10  previous   45211 non-null  int64 \n",
            " 11  poutcome   45211 non-null  object\n",
            " 12  y          45211 non-null  object\n",
            "dtypes: int64(5), object(8)\n",
            "memory usage: 4.5+ MB\n",
            "None\n",
            "\n",
            "\n",
            "age          0\n",
            "job          0\n",
            "marital      0\n",
            "education    0\n",
            "default      0\n",
            "balance      0\n",
            "housing      0\n",
            "loan         0\n",
            "campaign     0\n",
            "pdays        0\n",
            "previous     0\n",
            "poutcome     0\n",
            "y            0\n",
            "dtype: int64\n"
          ]
        }
      ]
    },
    {
      "cell_type": "code",
      "source": [
        "#Preprocessing - handle unknown values\n",
        "\n",
        "UnknownJob = FilteredData[FilteredData['job'] == 'unknown'].shape[0]\n",
        "UnknownMarital = FilteredData[FilteredData['marital'] == 'unknown'].shape[0]\n",
        "UnknownEducation = FilteredData[FilteredData['education'] == 'unknown'].shape[0]\n",
        "TotalRows = FilteredData.shape[0]\n",
        "\n",
        "print('Unknown Job:', UnknownJob)\n",
        "print('Unknown Marital:', UnknownMarital)\n",
        "print('Unknown Education:', UnknownEducation)\n",
        "print('Total Rows:', TotalRows)\n",
        "\n",
        "UnknownJobPortion = UnknownJob / TotalRows\n",
        "UnknownMaritalPortion = UnknownMarital / TotalRows\n",
        "UnknownEducationPortion = UnknownEducation / TotalRows\n",
        "\n",
        "print('\\n')\n",
        "print('Unknown Job Portion:', UnknownJobPortion)\n",
        "print('Unknown Marital Portion:', UnknownMaritalPortion)\n",
        "print('Unknown Education Portion:', UnknownEducationPortion)"
      ],
      "metadata": {
        "id": "w2vJ13Zp5hOM",
        "colab": {
          "base_uri": "https://localhost:8080/"
        },
        "outputId": "8a4ec157-adb6-48de-f084-78a27b938758"
      },
      "execution_count": null,
      "outputs": [
        {
          "output_type": "stream",
          "name": "stdout",
          "text": [
            "Unknown Job: 288\n",
            "Unknown Marital: 0\n",
            "Unknown Education: 1857\n",
            "Total Rows: 45211\n",
            "\n",
            "\n",
            "Unknown Job Portion: 0.006370131162770122\n",
            "Unknown Marital Portion: 0.0\n",
            "Unknown Education Portion: 0.04107407489327818\n"
          ]
        }
      ]
    },
    {
      "cell_type": "code",
      "source": [
        "#Preprocessing - handle unknown values\n",
        "\n",
        "FilteredData = FilteredData[FilteredData['job'] != 'unknown']\n",
        "FilteredData = FilteredData[FilteredData['marital'] != 'unknown']\n",
        "FilteredData = FilteredData[FilteredData['education'] != 'unknown']\n",
        "\n",
        "print(\"Unknown Job Remaining:\", FilteredData[FilteredData['job'] == 'unknown'].shape[0])\n",
        "print(\"Unknown Marital Remaining:\", FilteredData[FilteredData['marital'] == 'unknown'].shape[0])\n",
        "print(\"Unknown Education Remaining:\", FilteredData[FilteredData['education'] == 'unknown'].shape[0])"
      ],
      "metadata": {
        "id": "a2rGwFan7Wq7",
        "colab": {
          "base_uri": "https://localhost:8080/"
        },
        "outputId": "843d8f8d-d753-4637-d90f-d0f838e3f8a6"
      },
      "execution_count": null,
      "outputs": [
        {
          "output_type": "stream",
          "name": "stdout",
          "text": [
            "Unknown Job Remaining: 0\n",
            "Unknown Marital Remaining: 0\n",
            "Unknown Education Remaining: 0\n"
          ]
        }
      ]
    },
    {
      "cell_type": "code",
      "source": [
        "#Initial check\n",
        "\n",
        "print(FilteredData.dtypes)\n",
        "print('\\n')\n",
        "print(FilteredData.info())\n",
        "print('\\n')\n",
        "print(FilteredData.duplicated().sum())\n",
        "print('\\n')\n",
        "print(FilteredData.isnull().sum())"
      ],
      "metadata": {
        "id": "QVeho-u47y8G",
        "colab": {
          "base_uri": "https://localhost:8080/"
        },
        "outputId": "4b29b654-0797-4d37-f200-4fb4e484e3ff"
      },
      "execution_count": null,
      "outputs": [
        {
          "output_type": "stream",
          "name": "stdout",
          "text": [
            "age           int64\n",
            "job          object\n",
            "marital      object\n",
            "education    object\n",
            "default      object\n",
            "balance       int64\n",
            "housing      object\n",
            "loan         object\n",
            "campaign      int64\n",
            "pdays         int64\n",
            "previous      int64\n",
            "poutcome     object\n",
            "y            object\n",
            "dtype: object\n",
            "\n",
            "\n",
            "<class 'pandas.core.frame.DataFrame'>\n",
            "Index: 43193 entries, 0 to 45210\n",
            "Data columns (total 13 columns):\n",
            " #   Column     Non-Null Count  Dtype \n",
            "---  ------     --------------  ----- \n",
            " 0   age        43193 non-null  int64 \n",
            " 1   job        43193 non-null  object\n",
            " 2   marital    43193 non-null  object\n",
            " 3   education  43193 non-null  object\n",
            " 4   default    43193 non-null  object\n",
            " 5   balance    43193 non-null  int64 \n",
            " 6   housing    43193 non-null  object\n",
            " 7   loan       43193 non-null  object\n",
            " 8   campaign   43193 non-null  int64 \n",
            " 9   pdays      43193 non-null  int64 \n",
            " 10  previous   43193 non-null  int64 \n",
            " 11  poutcome   43193 non-null  object\n",
            " 12  y          43193 non-null  object\n",
            "dtypes: int64(5), object(8)\n",
            "memory usage: 4.6+ MB\n",
            "None\n",
            "\n",
            "\n",
            "409\n",
            "\n",
            "\n",
            "age          0\n",
            "job          0\n",
            "marital      0\n",
            "education    0\n",
            "default      0\n",
            "balance      0\n",
            "housing      0\n",
            "loan         0\n",
            "campaign     0\n",
            "pdays        0\n",
            "previous     0\n",
            "poutcome     0\n",
            "y            0\n",
            "dtype: int64\n"
          ]
        }
      ]
    },
    {
      "cell_type": "code",
      "source": [
        "#Save the dataset\n",
        "\n",
        "FilteredData.to_csv('/content/drive/MyDrive/Colab Notebooks/CleanedBank.csv', index=False)"
      ],
      "metadata": {
        "id": "OzA5QR3tBH2Y"
      },
      "execution_count": null,
      "outputs": []
    }
  ]
}